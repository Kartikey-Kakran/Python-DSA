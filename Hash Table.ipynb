{
 "cells": [
  {
   "cell_type": "code",
   "execution_count": 4,
   "id": "8c440c9b",
   "metadata": {},
   "outputs": [],
   "source": [
    "# Read csv file for HASH MAP\n",
    "stock_prices = []\n",
    "with open(r'stocks.csv') as f:\n",
    "    for line in f:\n",
    "        day, price = line.split(',')\n",
    "        price = float(price)\n",
    "        stock_prices.append([day,price])"
   ]
  },
  {
   "cell_type": "code",
   "execution_count": 5,
   "id": "3e16d265",
   "metadata": {},
   "outputs": [
    {
     "data": {
      "text/plain": [
       "[['Mar-06', 310.0],\n",
       " ['Mar-07', 340.0],\n",
       " ['Mar-08', 380.0],\n",
       " ['Mar-09', 302.0],\n",
       " ['Mar-10', 297.0],\n",
       " ['Mar-11', 323.0]]"
      ]
     },
     "execution_count": 5,
     "metadata": {},
     "output_type": "execute_result"
    }
   ],
   "source": [
    "stock_prices"
   ]
  },
  {
   "cell_type": "code",
   "execution_count": 7,
   "id": "b10053bc",
   "metadata": {},
   "outputs": [],
   "source": [
    " # More efficient way --> Dictionary --> O(1)"
   ]
  },
  {
   "cell_type": "code",
   "execution_count": 14,
   "id": "bcbb5c39",
   "metadata": {},
   "outputs": [],
   "source": [
    "stock_prices={}\n",
    "with open(r'stocks.csv') as f:\n",
    "    for line in f:\n",
    "        day, price = line.split(',')\n",
    "        price = float(price)\n",
    "        stock_prices[day]=price"
   ]
  },
  {
   "cell_type": "code",
   "execution_count": 15,
   "id": "82e2304f",
   "metadata": {},
   "outputs": [
    {
     "data": {
      "text/plain": [
       "{'Mar-06': 310.0,\n",
       " 'Mar-07': 340.0,\n",
       " 'Mar-08': 380.0,\n",
       " 'Mar-09': 302.0,\n",
       " 'Mar-10': 297.0,\n",
       " 'Mar-11': 323.0}"
      ]
     },
     "execution_count": 15,
     "metadata": {},
     "output_type": "execute_result"
    }
   ],
   "source": [
    "stock_prices\n"
   ]
  },
  {
   "cell_type": "code",
   "execution_count": 16,
   "id": "5b8c563b",
   "metadata": {},
   "outputs": [
    {
     "data": {
      "text/plain": [
       "310.0"
      ]
     },
     "execution_count": 16,
     "metadata": {},
     "output_type": "execute_result"
    }
   ],
   "source": [
    "stock_prices['Mar-06']"
   ]
  },
  {
   "cell_type": "code",
   "execution_count": 17,
   "id": "7905e13f",
   "metadata": {},
   "outputs": [],
   "source": [
    "## HASH FUNCTION"
   ]
  },
  {
   "cell_type": "code",
   "execution_count": 19,
   "id": "9c8ccf41",
   "metadata": {},
   "outputs": [],
   "source": [
    "def get_hash(key):\n",
    "    sum = 0\n",
    "    for c in key:\n",
    "        sum+=ord(c)\n",
    "    return sum % 100"
   ]
  },
  {
   "cell_type": "code",
   "execution_count": 21,
   "id": "9ccd3d23",
   "metadata": {},
   "outputs": [
    {
     "data": {
      "text/plain": [
       "35"
      ]
     },
     "execution_count": 21,
     "metadata": {},
     "output_type": "execute_result"
    }
   ],
   "source": [
    "get_hash('Mar-06')"
   ]
  },
  {
   "cell_type": "markdown",
   "id": "4837c92a",
   "metadata": {},
   "source": [
    "# Main Code"
   ]
  },
  {
   "cell_type": "code",
   "execution_count": 41,
   "id": "b6f680db",
   "metadata": {},
   "outputs": [],
   "source": [
    "\n",
    "class HashTable:\n",
    "    def __init__(self):\n",
    "        self.max=100 ## maximum limit\n",
    "        self.arr = [None]*self.max#intial array by none(create an array of size 100)\n",
    "    \n",
    "    def get_hash(self,key):\n",
    "        sum = 0\n",
    "        for c in key:\n",
    "            sum+=ord(c)\n",
    "        return sum % self.max\n",
    "    # item assignment\n",
    "    def __setitem__(self,key, value):\n",
    "        h = self.get_hash(key)\n",
    "        self.arr[h] = value\n",
    "    # get stored item value\n",
    "    def __getitem__(self,key):\n",
    "        h = self.get_hash(key)\n",
    "        return self.arr[h]\n",
    "    def __delitem__(self,key):\n",
    "        h= self.get_hash(key)\n",
    "        self.arr[h]=None"
   ]
  },
  {
   "cell_type": "code",
   "execution_count": 42,
   "id": "edd5c13e",
   "metadata": {},
   "outputs": [],
   "source": [
    "h = HashTable()\n",
    "h['Mar-06'] = 302\n",
    "h['Mar-11']=78"
   ]
  },
  {
   "cell_type": "code",
   "execution_count": 45,
   "id": "df840654",
   "metadata": {},
   "outputs": [
    {
     "data": {
      "text/plain": [
       "78"
      ]
     },
     "execution_count": 45,
     "metadata": {},
     "output_type": "execute_result"
    }
   ],
   "source": [
    "h['Mar-11']"
   ]
  },
  {
   "cell_type": "code",
   "execution_count": 44,
   "id": "8345a553",
   "metadata": {},
   "outputs": [],
   "source": [
    "h['Mar-06'] ## prints none"
   ]
  },
  {
   "cell_type": "code",
   "execution_count": null,
   "id": "647bf8c1",
   "metadata": {},
   "outputs": [],
   "source": []
  }
 ],
 "metadata": {
  "kernelspec": {
   "display_name": "Python 3",
   "language": "python",
   "name": "python3"
  },
  "language_info": {
   "codemirror_mode": {
    "name": "ipython",
    "version": 3
   },
   "file_extension": ".py",
   "mimetype": "text/x-python",
   "name": "python",
   "nbconvert_exporter": "python",
   "pygments_lexer": "ipython3",
   "version": "3.9.0"
  }
 },
 "nbformat": 4,
 "nbformat_minor": 5
}
